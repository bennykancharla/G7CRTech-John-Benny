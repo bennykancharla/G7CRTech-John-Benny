{
    "metadata": {
        "kernelspec": {
            "name": "SQL",
            "display_name": "SQL",
            "language": "sql"
        },
        "language_info": {
            "name": "sql",
            "version": ""
        }
    },
    "nbformat_minor": 2,
    "nbformat": 4,
    "cells": [
        {
            "cell_type": "code",
            "source": [
                "CREATE DATABASE bennyDB"
            ],
            "metadata": {
                "azdata_cell_guid": "fa79c816-fad1-4d1e-8ee5-d113a5229015",
                "language": "sql",
                "tags": []
            },
            "outputs": [
                {
                    "output_type": "display_data",
                    "data": {
                        "text/html": "Commands completed successfully."
                    },
                    "metadata": {}
                },
                {
                    "output_type": "display_data",
                    "data": {
                        "text/html": "Total execution time: 00:00:00.504"
                    },
                    "metadata": {}
                }
            ],
            "execution_count": 1
        },
        {
            "cell_type": "markdown",
            "source": [
                "Deleting the Table"
            ],
            "metadata": {
                "language": "sql",
                "azdata_cell_guid": "9654d486-8d1a-4165-932e-c22e127e942c"
            },
            "attachments": {}
        },
        {
            "cell_type": "code",
            "source": [
                "DROP TABLE IF EXISTS aot_table"
            ],
            "metadata": {
                "language": "sql",
                "azdata_cell_guid": "f7c3ab91-ba65-41bd-a666-d32f5175c29f"
            },
            "outputs": [
                {
                    "output_type": "display_data",
                    "data": {
                        "text/html": "Commands completed successfully."
                    },
                    "metadata": {}
                },
                {
                    "output_type": "display_data",
                    "data": {
                        "text/html": "Total execution time: 00:00:00.001"
                    },
                    "metadata": {}
                }
            ],
            "execution_count": 5
        },
        {
            "cell_type": "markdown",
            "source": [
                "Create Table"
            ],
            "metadata": {
                "language": "sql",
                "azdata_cell_guid": "86df50df-2b36-4fa1-ac99-a3deb23e08d4"
            },
            "attachments": {}
        },
        {
            "cell_type": "code",
            "source": [
                "CREATE TABLE aot_table(\r\n",
                "    id INT NOT NULL,\r\n",
                "    name VARCHAR(100) NOT NULL,\r\n",
                "    no_fans INT NOT NULL,\r\n",
                ")"
            ],
            "metadata": {
                "language": "sql",
                "azdata_cell_guid": "5b0ffc29-7531-4ef8-8052-c65f059aba77",
                "tags": []
            },
            "outputs": [
                {
                    "output_type": "display_data",
                    "data": {
                        "text/html": "Commands completed successfully."
                    },
                    "metadata": {}
                },
                {
                    "output_type": "display_data",
                    "data": {
                        "text/html": "Total execution time: 00:00:00.003"
                    },
                    "metadata": {}
                }
            ],
            "execution_count": 6
        },
        {
            "cell_type": "markdown",
            "source": [
                "Insert Data"
            ],
            "metadata": {
                "language": "sql",
                "azdata_cell_guid": "6f33fc3f-bd5b-44db-9f34-1e4c646aeef1"
            },
            "attachments": {}
        },
        {
            "cell_type": "code",
            "source": [
                "INSERT INTO aot_table(id,name,no_fans)\r\n",
                "VALUES (\r\n",
                "    1,\r\n",
                "    'Attack on Titan S1',\r\n",
                "    5000\r\n",
                ") ,\r\n",
                "(\r\n",
                "  2,\r\n",
                "    'Attack on Titan S2'  ,\r\n",
                "    6000 \r\n",
                "),\r\n",
                "(\r\n",
                "    3,\r\n",
                "    'Naruto',\r\n",
                "    4000\r\n",
                ") ,\r\n",
                "(\r\n",
                "  4,\r\n",
                "    'One Piece',\r\n",
                "    1000   \r\n",
                ");"
            ],
            "metadata": {
                "language": "sql",
                "azdata_cell_guid": "1cd75569-74c0-4bbd-b52b-637abdeb4cd7",
                "tags": []
            },
            "outputs": [
                {
                    "output_type": "display_data",
                    "data": {
                        "text/html": "(4 rows affected)"
                    },
                    "metadata": {}
                },
                {
                    "output_type": "display_data",
                    "data": {
                        "text/html": "Total execution time: 00:00:00.004"
                    },
                    "metadata": {}
                }
            ],
            "execution_count": 8
        },
        {
            "cell_type": "markdown",
            "source": [
                "Select the Rows fromm table"
            ],
            "metadata": {
                "language": "sql",
                "azdata_cell_guid": "3b660b85-c0d2-4c9a-bb8d-51a7041b5006"
            },
            "attachments": {}
        },
        {
            "cell_type": "code",
            "source": [
                "SELECT * FROM aot_table"
            ],
            "metadata": {
                "language": "sql",
                "azdata_cell_guid": "6bd314cd-f015-4b46-96e0-0e0851c4ceec",
                "tags": []
            },
            "outputs": [
                {
                    "output_type": "display_data",
                    "data": {
                        "text/html": "(8 rows affected)"
                    },
                    "metadata": {}
                },
                {
                    "output_type": "display_data",
                    "data": {
                        "text/html": "Total execution time: 00:00:00.017"
                    },
                    "metadata": {}
                },
                {
                    "output_type": "execute_result",
                    "metadata": {},
                    "execution_count": 17,
                    "data": {
                        "application/vnd.dataresource+json": {
                            "schema": {
                                "fields": [
                                    {
                                        "name": "id"
                                    },
                                    {
                                        "name": "name"
                                    },
                                    {
                                        "name": "no_fans"
                                    }
                                ]
                            },
                            "data": [
                                {
                                    "id": "1",
                                    "name": "Attack on Titan S1",
                                    "no_fans": "5000"
                                },
                                {
                                    "id": "2",
                                    "name": "Attack on Titan S2",
                                    "no_fans": "6000"
                                },
                                {
                                    "id": "3",
                                    "name": "Naruto",
                                    "no_fans": "4000"
                                },
                                {
                                    "id": "4",
                                    "name": "One Piece",
                                    "no_fans": "1000"
                                },
                                {
                                    "id": "5",
                                    "name": "Attack on Titan",
                                    "no_fans": "8000"
                                },
                                {
                                    "id": "6",
                                    "name": "Attack on Titan",
                                    "no_fans": "9000"
                                },
                                {
                                    "id": "7",
                                    "name": "Naruto",
                                    "no_fans": "5500"
                                },
                                {
                                    "id": "8",
                                    "name": "One Piece",
                                    "no_fans": "100"
                                }
                            ]
                        },
                        "text/html": [
                            "<table>",
                            "<tr><th>id</th><th>name</th><th>no_fans</th></tr>",
                            "<tr><td>1</td><td>Attack on Titan S1</td><td>5000</td></tr>",
                            "<tr><td>2</td><td>Attack on Titan S2</td><td>6000</td></tr>",
                            "<tr><td>3</td><td>Naruto</td><td>4000</td></tr>",
                            "<tr><td>4</td><td>One Piece</td><td>1000</td></tr>",
                            "<tr><td>5</td><td>Attack on Titan</td><td>8000</td></tr>",
                            "<tr><td>6</td><td>Attack on Titan</td><td>9000</td></tr>",
                            "<tr><td>7</td><td>Naruto</td><td>5500</td></tr>",
                            "<tr><td>8</td><td>One Piece</td><td>100</td></tr>",
                            "</table>"
                        ]
                    }
                }
            ],
            "execution_count": 17
        },
        {
            "cell_type": "markdown",
            "source": [
                "Selecting AOT Rows according to the no of fans"
            ],
            "metadata": {
                "language": "sql",
                "azdata_cell_guid": "877db578-92a4-44c9-88ec-cc5ad1fd27a2"
            },
            "attachments": {}
        },
        {
            "cell_type": "code",
            "source": [
                "SELECT\r\n",
                " * \r\n",
                " FROM\r\n",
                "  aot_table\r\n",
                "WHERE \r\n",
                "    name LIKE '%Attack%'\r\n",
                "\r\n",
                "ORDER BY \r\n",
                "\r\n",
                "no_fans DESC"
            ],
            "metadata": {
                "language": "sql",
                "azdata_cell_guid": "c62e0d7a-7f85-49d3-9ed8-f18305c20cab"
            },
            "outputs": [
                {
                    "output_type": "display_data",
                    "data": {
                        "text/html": "(2 rows affected)"
                    },
                    "metadata": {}
                },
                {
                    "output_type": "display_data",
                    "data": {
                        "text/html": "Total execution time: 00:00:00.008"
                    },
                    "metadata": {}
                },
                {
                    "output_type": "execute_result",
                    "metadata": {},
                    "execution_count": 12,
                    "data": {
                        "application/vnd.dataresource+json": {
                            "schema": {
                                "fields": [
                                    {
                                        "name": "id"
                                    },
                                    {
                                        "name": "name"
                                    },
                                    {
                                        "name": "no_fans"
                                    }
                                ]
                            },
                            "data": [
                                {
                                    "id": "2",
                                    "name": "Attack on Titan S2",
                                    "no_fans": "6000"
                                },
                                {
                                    "id": "1",
                                    "name": "Attack on Titan S1",
                                    "no_fans": "5000"
                                }
                            ]
                        },
                        "text/html": [
                            "<table>",
                            "<tr><th>id</th><th>name</th><th>no_fans</th></tr>",
                            "<tr><td>2</td><td>Attack on Titan S2</td><td>6000</td></tr>",
                            "<tr><td>1</td><td>Attack on Titan S1</td><td>5000</td></tr>",
                            "</table>"
                        ]
                    }
                }
            ],
            "execution_count": 12
        },
        {
            "cell_type": "markdown",
            "source": [
                "Distinct Titles"
            ],
            "metadata": {
                "azdata_cell_guid": "0224852f-a5e3-4da4-bbcb-d99b7bd1aa94"
            },
            "attachments": {}
        },
        {
            "cell_type": "code",
            "source": [
                "SELECT DISTINCT name FROM aot_table"
            ],
            "metadata": {
                "azdata_cell_guid": "0ed7bd65-f7e7-4034-94be-e28148641515",
                "language": "sql"
            },
            "outputs": [
                {
                    "output_type": "display_data",
                    "data": {
                        "text/html": "(4 rows affected)"
                    },
                    "metadata": {}
                },
                {
                    "output_type": "display_data",
                    "data": {
                        "text/html": "Total execution time: 00:00:00.016"
                    },
                    "metadata": {}
                },
                {
                    "output_type": "execute_result",
                    "metadata": {},
                    "execution_count": 13,
                    "data": {
                        "application/vnd.dataresource+json": {
                            "schema": {
                                "fields": [
                                    {
                                        "name": "name"
                                    }
                                ]
                            },
                            "data": [
                                {
                                    "name": "Attack on Titan S1"
                                },
                                {
                                    "name": "Attack on Titan S2"
                                },
                                {
                                    "name": "Naruto"
                                },
                                {
                                    "name": "One Piece"
                                }
                            ]
                        },
                        "text/html": [
                            "<table>",
                            "<tr><th>name</th></tr>",
                            "<tr><td>Attack on Titan S1</td></tr>",
                            "<tr><td>Attack on Titan S2</td></tr>",
                            "<tr><td>Naruto</td></tr>",
                            "<tr><td>One Piece</td></tr>",
                            "</table>"
                        ]
                    }
                }
            ],
            "execution_count": 13
        },
        {
            "cell_type": "markdown",
            "source": [
                "Inserting some more data"
            ],
            "metadata": {
                "language": "sql",
                "azdata_cell_guid": "6cd4e0b1-0893-4995-95bc-5aa8434f0ca0"
            },
            "attachments": {}
        },
        {
            "cell_type": "code",
            "source": [
                "INSERT INTO aot_table(id,name,no_fans)\r\n",
                "VALUES (\r\n",
                "    5,\r\n",
                "    'Attack on Titan',\r\n",
                "    8000\r\n",
                ") ,\r\n",
                "(\r\n",
                "  6,\r\n",
                "    'Attack on Titan'  ,\r\n",
                "    9000 \r\n",
                "),\r\n",
                "(\r\n",
                "    7,\r\n",
                "    'Naruto',\r\n",
                "    5500\r\n",
                ") ,\r\n",
                "(\r\n",
                "  8,\r\n",
                "    'One Piece',\r\n",
                "    100   \r\n",
                ");"
            ],
            "metadata": {
                "language": "sql",
                "azdata_cell_guid": "da2c2817-f3c1-4d3b-958a-aea24551fe7f"
            },
            "outputs": [
                {
                    "output_type": "display_data",
                    "data": {
                        "text/html": "(4 rows affected)"
                    },
                    "metadata": {}
                },
                {
                    "output_type": "display_data",
                    "data": {
                        "text/html": "Total execution time: 00:00:00.002"
                    },
                    "metadata": {}
                }
            ],
            "execution_count": 16
        },
        {
            "cell_type": "markdown",
            "source": [
                "Group By Clause"
            ],
            "metadata": {
                "language": "sql",
                "azdata_cell_guid": "a2ad88eb-852d-4ab0-9d85-91dd1e3a989a"
            },
            "attachments": {}
        },
        {
            "cell_type": "code",
            "source": [
                "\r\n",
                "\r\n",
                "\r\n",
                ""
            ],
            "metadata": {
                "language": "sql",
                "azdata_cell_guid": "76e653fa-4c0a-4a6f-bdc1-5c4c69092d85"
            },
            "outputs": [],
            "execution_count": null
        }
    ]
}