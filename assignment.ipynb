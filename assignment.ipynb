{
    "metadata": {
        "kernelspec": {
            "name": "SQL",
            "display_name": "SQL",
            "language": "sql"
        },
        "language_info": {
            "name": "sql",
            "version": ""
        }
    },
    "nbformat_minor": 2,
    "nbformat": 4,
    "cells": [
        {
            "cell_type": "markdown",
            "source": [
                "Create DataBase"
            ],
            "metadata": {
                "azdata_cell_guid": "81ad255f-0d0d-4295-a516-60e54dd72ed8"
            },
            "attachments": {}
        },
        {
            "cell_type": "code",
            "source": [
                "DROP DATABASE bennyDB"
            ],
            "metadata": {
                "azdata_cell_guid": "e15a142d-80cb-4a2a-a143-06afab8c90f1",
                "language": "sql"
            },
            "outputs": [
                {
                    "output_type": "error",
                    "evalue": "Msg 102, Level 15, State 1, Line 1\r\nIncorrect syntax near '.'.",
                    "ename": "",
                    "traceback": []
                },
                {
                    "output_type": "display_data",
                    "data": {
                        "text/html": "Total execution time: 00:00:00"
                    },
                    "metadata": {}
                }
            ],
            "execution_count": 6
        },
        {
            "cell_type": "markdown",
            "source": [
                "Create a Table in DB"
            ],
            "metadata": {
                "language": "sql",
                "azdata_cell_guid": "ec3e2ae4-4c7f-4be5-9f3a-d57396a17380"
            },
            "attachments": {}
        },
        {
            "cell_type": "code",
            "source": [
                "CREATE TABLE books_list (\r\n",
                "    title VARCHAR(100) NOT NULL,\r\n",
                "    ISBN  INT NOT NULL,\r\n",
                "    author VARCHAR(100) NOT NULL,\r\n",
                "    price DECIMAL(5,2) NOT NULL,\r\n",
                "    cover VARCHAR(100) NOT NULL,\r\n",
                "    author_photo VARCHAR(100) NOT NULL,\r\n",
                ")"
            ],
            "metadata": {
                "language": "sql",
                "azdata_cell_guid": "efc1ee02-e465-4ce0-aed9-68e36b3fc3ab"
            },
            "outputs": [
                {
                    "output_type": "display_data",
                    "data": {
                        "text/html": "Commands completed successfully."
                    },
                    "metadata": {}
                },
                {
                    "output_type": "display_data",
                    "data": {
                        "text/html": "Total execution time: 00:00:00.003"
                    },
                    "metadata": {}
                }
            ],
            "execution_count": 2
        },
        {
            "cell_type": "markdown",
            "source": [
                "Data Input in the book table"
            ],
            "metadata": {
                "language": "sql",
                "azdata_cell_guid": "3d00b300-4a54-4598-9a25-596a4e2e1824"
            },
            "attachments": {}
        },
        {
            "cell_type": "code",
            "source": [
                "INSERT INTO books_list (\r\n",
                "    title,\r\n",
                "    ISBN,\r\n",
                "    author,\r\n",
                "    price,\r\n",
                "    cover,\r\n",
                "    author_photo\r\n",
                "    )\r\n",
                "VALUES(\r\n",
                "    'Manas', 111, 'Vivek', 199.00,'manas.jpg','vivek.jpg'\r\n",
                "),\r\n",
                "(\r\n",
                "    'Rashmirathi', 112, 'Dinkar', 99.00,'Rashmirathi.jpg','Dinkar.jpg'\r\n",
                ")"
            ],
            "metadata": {
                "language": "sql",
                "azdata_cell_guid": "1c2d08c7-e66e-4565-a886-dc69e42ab1b0"
            },
            "outputs": [
                {
                    "output_type": "display_data",
                    "data": {
                        "text/html": "(2 rows affected)"
                    },
                    "metadata": {}
                },
                {
                    "output_type": "display_data",
                    "data": {
                        "text/html": "Total execution time: 00:00:00.005"
                    },
                    "metadata": {}
                }
            ],
            "execution_count": 3
        },
        {
            "cell_type": "markdown",
            "source": [
                "Select all rows in book list"
            ],
            "metadata": {
                "language": "sql",
                "azdata_cell_guid": "70033058-c006-4786-b72a-ba7dc406d489"
            },
            "attachments": {}
        },
        {
            "cell_type": "code",
            "source": [
                "SELECT\r\n",
                "*\r\n",
                "FROM\r\n",
                "\r\n",
                "books_list"
            ],
            "metadata": {
                "language": "sql",
                "azdata_cell_guid": "897f2877-bf85-4c41-aecc-777412be7d61"
            },
            "outputs": [
                {
                    "output_type": "display_data",
                    "data": {
                        "text/html": "(2 rows affected)"
                    },
                    "metadata": {}
                },
                {
                    "output_type": "display_data",
                    "data": {
                        "text/html": "Total execution time: 00:00:00.018"
                    },
                    "metadata": {}
                },
                {
                    "output_type": "execute_result",
                    "metadata": {},
                    "execution_count": 5,
                    "data": {
                        "application/vnd.dataresource+json": {
                            "schema": {
                                "fields": [
                                    {
                                        "name": "title"
                                    },
                                    {
                                        "name": "ISBN"
                                    },
                                    {
                                        "name": "author"
                                    },
                                    {
                                        "name": "price"
                                    },
                                    {
                                        "name": "cover"
                                    },
                                    {
                                        "name": "author_photo"
                                    }
                                ]
                            },
                            "data": [
                                {
                                    "title": "Manas",
                                    "ISBN": "111",
                                    "author": "Vivek",
                                    "price": "199.00",
                                    "cover": "manas.jpg",
                                    "author_photo": "vivek.jpg"
                                },
                                {
                                    "title": "Rashmirathi",
                                    "ISBN": "112",
                                    "author": "Dinkar",
                                    "price": "99.00",
                                    "cover": "Rashmirathi.jpg",
                                    "author_photo": "Dinkar.jpg"
                                }
                            ]
                        },
                        "text/html": [
                            "<table>",
                            "<tr><th>title</th><th>ISBN</th><th>author</th><th>price</th><th>cover</th><th>author_photo</th></tr>",
                            "<tr><td>Manas</td><td>111</td><td>Vivek</td><td>199.00</td><td>manas.jpg</td><td>vivek.jpg</td></tr>",
                            "<tr><td>Rashmirathi</td><td>112</td><td>Dinkar</td><td>99.00</td><td>Rashmirathi.jpg</td><td>Dinkar.jpg</td></tr>",
                            "</table>"
                        ]
                    }
                }
            ],
            "execution_count": 5
        },
        {
            "cell_type": "markdown",
            "source": [
                "Create another table of reviewers"
            ],
            "metadata": {
                "language": "sql",
                "azdata_cell_guid": "99c06c41-b6de-4013-be3d-670a7a4b797e"
            },
            "attachments": {}
        },
        {
            "cell_type": "code",
            "source": [
                "CREATE TABLE reviewers_table (\r\n",
                "     title VARCHAR(100) NOT NULL,\r\n",
                "     reviewer VARCHAR(100) NOT NULL,\r\n",
                "     rating DECIMAL(3,1) CHECK(rating >=1 AND rating <=5)\r\n",
                ")"
            ],
            "metadata": {
                "language": "sql",
                "azdata_cell_guid": "0bd1d0ed-f45c-4023-b7c9-685621142661"
            },
            "outputs": [
                {
                    "output_type": "display_data",
                    "data": {
                        "text/html": "Commands completed successfully."
                    },
                    "metadata": {}
                },
                {
                    "output_type": "display_data",
                    "data": {
                        "text/html": "Total execution time: 00:00:00.008"
                    },
                    "metadata": {}
                }
            ],
            "execution_count": 4
        },
        {
            "cell_type": "markdown",
            "source": [
                "Insert inputs to the reviewer's table"
            ],
            "metadata": {
                "language": "sql",
                "azdata_cell_guid": "33556c12-05e6-44df-bcf1-17fe45a99a23"
            },
            "attachments": {}
        },
        {
            "cell_type": "code",
            "source": [
                "INSERT INTO reviewers_table (title,reviewer,rating)\r\n",
                "VALUES \r\n",
                "('Manas' , 'Sanjay' , 4.7),\r\n",
                "('Rashmirathi' , 'Reena' , 4.8),\r\n",
                "('Manas' , 'Reena' , 4.6),\r\n",
                "('Manas' , 'Prabhat' , 4.2),\r\n",
                "('Rashmirathi' , 'Prabhat' , 4.1),\r\n",
                "('Rashmirathi' , 'Seema' , 4.2),\r\n",
                "('Manas' , 'Prabhat' , 4.2),\r\n",
                "('Manas' , 'Shivanshi' , 4.3)"
            ],
            "metadata": {
                "language": "sql",
                "azdata_cell_guid": "7bebc70c-4fe7-49c5-b3fd-730f59c13eb0",
                "tags": []
            },
            "outputs": [
                {
                    "output_type": "display_data",
                    "data": {
                        "text/html": "(8 rows affected)"
                    },
                    "metadata": {}
                },
                {
                    "output_type": "display_data",
                    "data": {
                        "text/html": "Total execution time: 00:00:00.005"
                    },
                    "metadata": {}
                }
            ],
            "execution_count": 6
        },
        {
            "cell_type": "markdown",
            "source": [
                "Select all rows from reviewer's table"
            ],
            "metadata": {
                "language": "sql",
                "azdata_cell_guid": "ed3dbcab-6891-4d53-ba0a-47e34036349e"
            },
            "attachments": {}
        },
        {
            "cell_type": "code",
            "source": [
                "SELECT * FROM reviewers_table"
            ],
            "metadata": {
                "language": "sql",
                "azdata_cell_guid": "8127c3ea-bd97-48f4-9109-93e25d160407"
            },
            "outputs": [
                {
                    "output_type": "display_data",
                    "data": {
                        "text/html": "(8 rows affected)"
                    },
                    "metadata": {}
                },
                {
                    "output_type": "display_data",
                    "data": {
                        "text/html": "Total execution time: 00:00:00.015"
                    },
                    "metadata": {}
                },
                {
                    "output_type": "execute_result",
                    "metadata": {},
                    "execution_count": 2,
                    "data": {
                        "application/vnd.dataresource+json": {
                            "schema": {
                                "fields": [
                                    {
                                        "name": "title"
                                    },
                                    {
                                        "name": "reviewer"
                                    },
                                    {
                                        "name": "rating"
                                    }
                                ]
                            },
                            "data": [
                                {
                                    "title": "Manas",
                                    "reviewer": "Sanjay",
                                    "rating": "4.7"
                                },
                                {
                                    "title": "Rashmirathi",
                                    "reviewer": "Reena",
                                    "rating": "4.8"
                                },
                                {
                                    "title": "Manas",
                                    "reviewer": "Reena",
                                    "rating": "4.6"
                                },
                                {
                                    "title": "Manas",
                                    "reviewer": "Prabhat",
                                    "rating": "4.2"
                                },
                                {
                                    "title": "Rashmirathi",
                                    "reviewer": "Prabhat",
                                    "rating": "4.1"
                                },
                                {
                                    "title": "Rashmirathi",
                                    "reviewer": "Seema",
                                    "rating": "4.2"
                                },
                                {
                                    "title": "Manas",
                                    "reviewer": "Prabhat",
                                    "rating": "4.2"
                                },
                                {
                                    "title": "Manas",
                                    "reviewer": "Shivanshi",
                                    "rating": "4.3"
                                }
                            ]
                        },
                        "text/html": [
                            "<table>",
                            "<tr><th>title</th><th>reviewer</th><th>rating</th></tr>",
                            "<tr><td>Manas</td><td>Sanjay</td><td>4.7</td></tr>",
                            "<tr><td>Rashmirathi</td><td>Reena</td><td>4.8</td></tr>",
                            "<tr><td>Manas</td><td>Reena</td><td>4.6</td></tr>",
                            "<tr><td>Manas</td><td>Prabhat</td><td>4.2</td></tr>",
                            "<tr><td>Rashmirathi</td><td>Prabhat</td><td>4.1</td></tr>",
                            "<tr><td>Rashmirathi</td><td>Seema</td><td>4.2</td></tr>",
                            "<tr><td>Manas</td><td>Prabhat</td><td>4.2</td></tr>",
                            "<tr><td>Manas</td><td>Shivanshi</td><td>4.3</td></tr>",
                            "</table>"
                        ]
                    }
                }
            ],
            "execution_count": 2
        }
    ]
}